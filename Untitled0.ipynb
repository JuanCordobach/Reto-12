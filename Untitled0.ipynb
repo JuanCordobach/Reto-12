{
  "nbformat": 4,
  "nbformat_minor": 0,
  "metadata": {
    "colab": {
      "provenance": [],
      "authorship_tag": "ABX9TyOfjnkIvHvMz0lhEpChlgWP",
      "include_colab_link": true
    },
    "kernelspec": {
      "name": "python3",
      "display_name": "Python 3"
    },
    "language_info": {
      "name": "python"
    }
  },
  "cells": [
    {
      "cell_type": "markdown",
      "metadata": {
        "id": "view-in-github",
        "colab_type": "text"
      },
      "source": [
        "<a href=\"https://colab.research.google.com/github/JuanCordobach/Reto-12/blob/main/Untitled0.ipynb\" target=\"_parent\"><img src=\"https://colab.research.google.com/assets/colab-badge.svg\" alt=\"Open In Colab\"/></a>"
      ]
    },
    {
      "cell_type": "markdown",
      "source": [
        "Desarrollar un algoritmo que imprima de manera ascendente los valores (todos del mismo tipo) de un diccionario."
      ],
      "metadata": {
        "id": "hltcDrVzIq58"
      }
    },
    {
      "cell_type": "code",
      "execution_count": 1,
      "metadata": {
        "colab": {
          "base_uri": "https://localhost:8080/"
        },
        "id": "RyFy7XHVBDhS",
        "outputId": "b2e69811-98f3-4937-f06d-248d1cc4d9c4"
      },
      "outputs": [
        {
          "output_type": "stream",
          "name": "stdout",
          "text": [
            "1\n",
            "2\n",
            "3\n"
          ]
        }
      ],
      "source": [
        "def imprimir_valores_ascendentes(diccionario):  # se define la funcion\n",
        "    valores_ordenados = sorted(diccionario.values()) # se usa el Sorted para dar laorden de ordenar el diccionario\n",
        "    for valor in valores_ordenados:\n",
        "        print(valor)\n",
        "\n",
        "diccionario = {'a': 3, 'b': 1, 'c': 2}\n",
        "imprimir_valores_ascendentes(diccionario) # se llama a la funcion"
      ]
    },
    {
      "cell_type": "markdown",
      "source": [
        "Desarrollar una funcion que reciba dos diccionarios como parametros y los mezcle, es decir, que se construya un nuevo diccionario con las llaves de los dos diccionarios; si hay una clave repetida en ambos diccionarios, se debe asignar el valor que tenga la clave en el primer diccionario."
      ],
      "metadata": {
        "id": "0uUpXQIsJgYZ"
      }
    },
    {
      "cell_type": "code",
      "source": [
        "def mezclar_diccionarios(dic1, dic2):\n",
        "    # Hacemos una copia de dic2 para no modificar el original\n",
        "    diccionario_mezclado = dic2.copy()\n",
        "\n",
        "    # Usamos update() para agregar o actualizar con los valores de dic1\n",
        "    diccionario_mezclado.update(dic1)\n",
        "\n",
        "    # Devolvemos el nuevo diccionario mezclado\n",
        "    return diccionario_mezclado\n",
        "\n",
        "# Probamos la función con dos diccionarios de ejemplo\n",
        "dic1 = {'a': 1, 'b': 2}  # Primer diccionario\n",
        "dic2 = {'b': 3, 'c': 4}  # Segundo diccionario\n",
        "\n",
        "# Mostramos el resultado\n",
        "print(mezclar_diccionarios(dic1, dic2))\n"
      ],
      "metadata": {
        "colab": {
          "base_uri": "https://localhost:8080/"
        },
        "id": "Wk8YRIdXJ27I",
        "outputId": "f2962033-09f4-48b0-9961-935399abd70a"
      },
      "execution_count": 2,
      "outputs": [
        {
          "output_type": "stream",
          "name": "stdout",
          "text": [
            "{'b': 2, 'c': 4, 'a': 1}\n"
          ]
        }
      ]
    },
    {
      "cell_type": "markdown",
      "source": [
        "Cree un programa que lea de un archivo con dicho JSON y:\n",
        "\n",
        "Imprima los nombres completos (nombre y apellidos) de las personas que practican el deporte ingresado por el usuario.\n",
        "Imprima los nombres completos (nombre y apellidos) de las personas que est�en en un rango de edades dado por el usuario."
      ],
      "metadata": {
        "id": "Fw0zzrz7K0BZ"
      }
    },
    {
      "cell_type": "code",
      "source": [
        "import json\n",
        "\n",
        "# Cargar el JSON desde un archivo\n",
        "with open('datos.json', 'r') as file:\n",
        "    data = json.load(file)\n",
        "\n",
        "# Función para imprimir nombres completos de personas que practican un deporte específico\n",
        "def imprimir_por_deporte(deporte):\n",
        "    for usuario, info in data.items():\n",
        "        if deporte in info['deportes']:\n",
        "            print(f\"{info['nombres']} {info['apellidos']}\")\n",
        "\n",
        "# Función para imprimir nombres completos de personas en un rango de edades\n",
        "def imprimir_por_edad(min_edad, max_edad):\n",
        "    for usuario, info in data.items():\n",
        "        if min_edad <= info['edad'] <= max_edad:\n",
        "            print(f\"{info['nombres']} {info['apellidos']}\")\n",
        "\n",
        "# Ejemplo de uso\n",
        "deporte_usuario = input(\"Ingrese el deporte: \")\n",
        "imprimir_por_deporte(deporte_usuario)\n",
        "\n",
        "min_edad = int(input(\"Ingrese la edad mínima: \"))\n",
        "max_edad = int(input(\"Ingrese la edad máxima: \"))\n",
        "imprimir_por_edad(min_edad, max_edad)"
      ],
      "metadata": {
        "id": "ssfHfxQZK9c5"
      },
      "execution_count": null,
      "outputs": []
    },
    {
      "cell_type": "markdown",
      "source": [
        "Revise los campos: 'alertAlertas', 'alertPrecip', 'alertTmpMax', 'alertTmpMin', 'alertVelViento'. Para cada uno identifique si se presentan alertas ({0: x} indica que el día 0 habra un fenomeno de la alerta en cuestión, {1:\"-\"} indica que no habrá ningun fenomeno climatico). En caso que se presente una alerta obtenga la fecha del campo 'dt' (aquí pueden revisar como se convierte de UTC a fecha), así como los parametros relevantes del evento (e.g. si es un fenomeno de lluvias, busqye el nivel de lluvia, si es vientos, la velocidad del viuento). Al final deberá imprimir las fechas de alerta, el tipo de alerta y las variables asociadas."
      ],
      "metadata": {
        "id": "YKovbcq4MGDP"
      }
    },
    {
      "cell_type": "code",
      "source": [
        "import json\n",
        "from datetime import datetime\n",
        "\n",
        "# Cargar JSON\n",
        "jsonString = '''PEGAR AQUÍ EL JSON COMPLETO'''\n",
        "data = json.loads(jsonString)\n",
        "\n",
        "# Convertir timestamp a fecha legible\n",
        "def convertir_fecha(timestamp):\n",
        "    return datetime.utcfromtimestamp(timestamp).strftime('%Y-%m-%d')\n",
        "\n",
        "# Campos de alerta\n",
        "alertas = {\n",
        "    \"alertPrecip\": \"Lluvias\",\n",
        "    \"alertVelViento\": \"Vientos Fuertes\",\n",
        "    \"alertTmpMax\": \"Temperatura Máxima\",\n",
        "    \"alertTmpMin\": \"Temperatura Mínima\",\n",
        "    \"alertAlertas\": \"Otra Alerta\",\n",
        "}\n",
        "\n",
        "# Revisar alertas y extraer información relevante\n",
        "for alerta, descripcion in alertas.items():\n",
        "    for dia, valor in data[alerta].items():\n",
        "        if valor == \"X\":  # Hay alerta en este día\n",
        "            fecha = convertir_fecha(data[\"dt\"][dia])\n",
        "            detalles = \"\"\n",
        "\n",
        "            if alerta == \"alertPrecip\":\n",
        "                detalles = f\"Precipitación: {data['prcp'][dia]} mm\"\n",
        "            elif alerta == \"alertVelViento\":\n",
        "                detalles = f\"Velocidad del viento: {data['velViento'][dia]} m/s, Ráfagas: {data['wind_gust'][dia]} m/s\"\n",
        "            elif alerta == \"alertTmpMax\":\n",
        "                detalles = f\"Temp. Máxima: {data['tmpMax'][dia]}°C\"\n",
        "            elif alerta == \"alertTmpMin\":\n",
        "                detalles = f\"Temp. Mínima: {data['tmpMin'][dia]}°C\"\n",
        "\n",
        "            print(f\"Fecha: {fecha}, Alerta: {descripcion}, {detalles}\")\n"
      ],
      "metadata": {
        "id": "41gJCoA1MKjY"
      },
      "execution_count": null,
      "outputs": []
    },
    {
      "cell_type": "markdown",
      "source": [
        "A través de un programa conectese a al menos 3 API's , obtenga el JSON, imprimalo y extraiga los pares de llave : valor."
      ],
      "metadata": {
        "id": "i_3xLxxyMkZ_"
      }
    },
    {
      "cell_type": "code",
      "source": [
        "import requests  # Librería para hacer solicitudes a Internet\n",
        "import json  # Librería para manejar datos en formato JSON\n",
        "\n",
        "# Lista de URLs de las APIs\n",
        "apis = [\n",
        "    'https://api.github.com',\n",
        "    'https://api.coindesk.com/v1/bpi/currentprice.json',\n",
        "    'https://api.agify.io?name=michael'\n",
        "]\n",
        "\n",
        "# Función para mostrar los datos de forma más sencilla\n",
        "def mostrar_datos(datos, nivel=0):\n",
        "    \"\"\"Recorre los datos JSON y los muestra en la pantalla de forma organizada.\"\"\"\n",
        "    if isinstance(datos, dict):  # Si es un diccionario\n",
        "        for clave, valor in datos.items():\n",
        "            print(\"  \" * nivel + f\"{clave}:\")  # Imprime la clave con sangría\n",
        "            mostrar_datos(valor, nivel + 1)  # Llamada recursiva para explorar más a fondo\n",
        "    elif isinstance(datos, list):  # Si es una lista\n",
        "        for i, elemento in enumerate(datos[:5]):  # Muestra máximo 5 elementos\n",
        "            print(\"  \" * nivel + f\"- Elemento {i+1}:\")\n",
        "            mostrar_datos(elemento, nivel + 1)\n",
        "    else:  # Si es un dato simple (texto, número, etc.)\n",
        "        print(\"  \" * nivel + f\"{datos}\")\n",
        "\n",
        "# Función para obtener datos de una API y mostrarlos\n",
        "def obtener_datos_api(url):\n",
        "    try:\n",
        "        print(f\"\\nConectando a {url}...\")\n",
        "        respuesta = requests.get(url, timeout=5)  # Solicitud a la API con un tiempo máximo de espera\n",
        "        respuesta.raise_for_status()  # Lanza un error si la respuesta no es correcta\n",
        "        datos = respuesta.json()  # Convertir la respuesta a JSON\n",
        "\n",
        "        print(\"\\nDatos obtenidos (JSON):\")\n",
        "        print(json.dumps(datos, indent=4, ensure_ascii=False))  # Imprimir el JSON bonito\n",
        "\n",
        "        print(\"\\nDatos organizados:\")\n",
        "        mostrar_datos(datos)  # Mostrar datos en formato más claro\n",
        "    except requests.exceptions.RequestException as error:\n",
        "        print(f\"Error al conectar con {url}: {error}\")\n",
        "    except json.JSONDecodeError:\n",
        "        print(f\"Error: La respuesta de {url} no es un JSON válido.\")\n",
        "\n",
        "# Ejecutar la función para cada API\n",
        "for api in apis:\n",
        "    obtener_datos_api(api)\n",
        "    print(\"=\" * 50)  # Línea separadora\n"
      ],
      "metadata": {
        "id": "OhIyTHBJMm7d"
      },
      "execution_count": null,
      "outputs": []
    }
  ]
}